{
  "nbformat": 4,
  "nbformat_minor": 0,
  "metadata": {
    "colab": {
      "provenance": [],
      "mount_file_id": "1ofIYBryqWbDASkGphSx-YU-eYjLgZbBe",
      "authorship_tag": "ABX9TyNJbPN732acIgQmn79aedsP",
      "include_colab_link": true
    },
    "kernelspec": {
      "name": "python3",
      "display_name": "Python 3"
    },
    "language_info": {
      "name": "python"
    }
  },
  "cells": [
    {
      "cell_type": "markdown",
      "metadata": {
        "id": "view-in-github",
        "colab_type": "text"
      },
      "source": [
        "<a href=\"https://colab.research.google.com/github/Leonardodarienzo/GeoPandas/blob/main/Geopandas_esercizio_1_.ipynb\" target=\"_parent\"><img src=\"https://colab.research.google.com/assets/colab-badge.svg\" alt=\"Open In Colab\"/></a>"
      ]
    },
    {
      "cell_type": "markdown",
      "source": [
        "1. caricare i quartieri in un geodataframe"
      ],
      "metadata": {
        "id": "VUxw_DRWhhyN"
      }
    },
    {
      "cell_type": "code",
      "source": [
        "from google.colab import drive\n",
        "drive.mount('/content/drive',force_remount=True)"
      ],
      "metadata": {
        "id": "l_P8esySirqG",
        "colab": {
          "base_uri": "https://localhost:8080/"
        },
        "outputId": "52cbae81-47f4-4f18-c4b3-947e7a14e4a4"
      },
      "execution_count": null,
      "outputs": [
        {
          "output_type": "stream",
          "name": "stdout",
          "text": [
            "Mounted at /content/drive\n"
          ]
        }
      ]
    },
    {
      "cell_type": "code",
      "source": [
        "!pip install geopandas"
      ],
      "metadata": {
        "id": "khebX_sZivTM"
      },
      "execution_count": null,
      "outputs": []
    },
    {
      "cell_type": "code",
      "source": [
        "import geopandas"
      ],
      "metadata": {
        "id": "eaIw5HhtjQhk"
      },
      "execution_count": null,
      "outputs": []
    },
    {
      "cell_type": "code",
      "source": [
        "quartieri = geopandas.read_file(\"/content/drive/MyDrive/Colab Notebooks/NIL_WM.dbf\")\n",
        "quartieri"
      ],
      "metadata": {
        "id": "ETh2UFkfiH6E"
      },
      "execution_count": null,
      "outputs": []
    },
    {
      "cell_type": "markdown",
      "source": [
        "2. visualizzare l'intestazione"
      ],
      "metadata": {
        "id": "-N2rrHWFhmv3"
      }
    },
    {
      "cell_type": "code",
      "source": [
        "quartieri.head(6)"
      ],
      "metadata": {
        "id": "rrT2BAoAhnFs"
      },
      "execution_count": null,
      "outputs": []
    },
    {
      "cell_type": "markdown",
      "source": [
        "3. visualizzare i nomi di tutti i quartieri presenti in ordine alfabetico"
      ],
      "metadata": {
        "id": "lNEYdCD3hnSE"
      }
    },
    {
      "cell_type": "code",
      "source": [
        "quartieri.sort_values('ID_NIL')\n",
        "quartieri"
      ],
      "metadata": {
        "id": "QV8qOYOHhnnN"
      },
      "execution_count": null,
      "outputs": []
    },
    {
      "cell_type": "markdown",
      "source": [
        "4. visualizzare tutti i quartieri su una mappa di Milano"
      ],
      "metadata": {
        "id": "MFrPcOiZhn28"
      }
    },
    {
      "cell_type": "code",
      "source": [
        "quartieri = geopandas.read_file(\"/content/drive/MyDrive/Colab Notebooks/NIL_WM.dbf\")\n",
        "quartieri"
      ],
      "metadata": {
        "id": "DiVWNsechoKc"
      },
      "execution_count": null,
      "outputs": []
    },
    {
      "cell_type": "markdown",
      "source": [
        "5. cercare il quartiere che contiene il Duomo di Milano"
      ],
      "metadata": {
        "id": "4bhgsXXChoXE"
      }
    },
    {
      "cell_type": "code",
      "source": [
        "!pip install contextily\n",
        "import contextily"
      ],
      "metadata": {
        "id": "Foewhsydl9Ua"
      },
      "execution_count": null,
      "outputs": []
    },
    {
      "cell_type": "code",
      "source": [
        "ax = quartieri.plot()\n",
        "contextily.add_basemap(ax)"
      ],
      "metadata": {
        "id": "N4Jxz_c6hoqE"
      },
      "execution_count": null,
      "outputs": []
    },
    {
      "cell_type": "code",
      "source": [
        "quartieri.crs"
      ],
      "metadata": {
        "id": "xzXBX7c2dvu5"
      },
      "execution_count": null,
      "outputs": []
    },
    {
      "cell_type": "markdown",
      "source": [
        "6. visualizzare sulla mappa il Duomo di Milano e il quartiere che lo contiene"
      ],
      "metadata": {
        "id": "_g_y-jn3h1tF"
      }
    },
    {
      "cell_type": "code",
      "source": [
        "quartieri3857 = quartieri.to_crs(epsg=3857)\n",
        "quartieri3857"
      ],
      "metadata": {
        "id": "oUPgJFgJh16k"
      },
      "execution_count": null,
      "outputs": []
    },
    {
      "cell_type": "code",
      "source": [
        "ax = quartieri3857.plot(figsize = (13,6),facecolor = 'none', edgecolor = 'black')\n",
        "contextily.add_basemap(ax)"
      ],
      "metadata": {
        "id": "oHQALbOZeMwh"
      },
      "execution_count": null,
      "outputs": []
    },
    {
      "cell_type": "code",
      "source": [
        "from shapely.geometry import Point\n",
        "galvani = Point(9.1863889,45.5065951)\n",
        "quartieri[quartieri.contains(galvani)]"
      ],
      "metadata": {
        "id": "XYXbN1wnfjiw"
      },
      "execution_count": null,
      "outputs": []
    },
    {
      "cell_type": "code",
      "source": [
        "quartieri[quartieri.contains(galvani)].plot()"
      ],
      "metadata": {
        "id": "wOg4NtDPgi9p"
      },
      "execution_count": null,
      "outputs": []
    },
    {
      "cell_type": "code",
      "source": [
        "ax = quartieri[quartieri.contains(galvani)].plot()\n",
        "contextily.add_basemap(ax)"
      ],
      "metadata": {
        "id": "0Bh2DdyrgwcA"
      },
      "execution_count": null,
      "outputs": []
    },
    {
      "cell_type": "code",
      "source": [
        "quartieredelgalvani = quartieri[quartieri.contains(galvani)]\n",
        "quartieredelgalvani3857 = quartieredelgalvani.to_crs(epsg=3857)"
      ],
      "metadata": {
        "id": "zI04L7G5hFnA"
      },
      "execution_count": null,
      "outputs": []
    },
    {
      "cell_type": "code",
      "source": [
        "ax = quartieredelgalvani3857.plot(figsize = (13,6),facecolor = 'none', edgecolor = 'black')\n",
        "contextily.add_basemap(ax)"
      ],
      "metadata": {
        "id": "ljPUK8p7hX5v"
      },
      "execution_count": null,
      "outputs": []
    },
    {
      "cell_type": "markdown",
      "source": [
        "7. visualizzare i quartieri vicini a quello che contiene il Duomo"
      ],
      "metadata": {
        "id": "KTHt7BSkh2RM"
      }
    },
    {
      "cell_type": "code",
      "source": [
        "from shapely.geometry import point\n",
        "galvani = geopandas.GeoSeries([Point(9.1863889,45.5065951)], crs = 4326)\n",
        "galvani3857 = galvani.to_crs(epsg=3857)\n",
        "ax = quartieredelgalvani3857.plot(figsize = (13,6),facecolor = 'none', edgecolor = 'black')\n",
        "galvani3857.plot(ax=ax)\n",
        "contextily.add_basemap(ax)"
      ],
      "metadata": {
        "id": "C7TRSuXIh2z8"
      },
      "execution_count": null,
      "outputs": []
    }
  ]
}