{
  "nbformat": 4,
  "nbformat_minor": 0,
  "metadata": {
    "colab": {
      "provenance": [],
      "authorship_tag": "ABX9TyOyIu+aSGDKVoKXpJK6+4Em",
      "include_colab_link": true
    },
    "kernelspec": {
      "name": "python3",
      "display_name": "Python 3"
    },
    "language_info": {
      "name": "python"
    }
  },
  "cells": [
    {
      "cell_type": "markdown",
      "metadata": {
        "id": "view-in-github",
        "colab_type": "text"
      },
      "source": [
        "<a href=\"https://colab.research.google.com/github/Leonardodarienzo/GeoPandas/blob/main/RelazioniSpaziali.ipynb\" target=\"_parent\"><img src=\"https://colab.research.google.com/assets/colab-badge.svg\" alt=\"Open In Colab\"/></a>"
      ]
    },
    {
      "cell_type": "code",
      "execution_count": null,
      "metadata": {
        "id": "7lMEGGosLz26"
      },
      "outputs": [],
      "source": [
        "!pip install geopandas"
      ]
    },
    {
      "cell_type": "code",
      "source": [
        "import geopandas as gdp"
      ],
      "metadata": {
        "id": "g6daIZkkMH0n"
      },
      "execution_count": null,
      "outputs": []
    },
    {
      "cell_type": "code",
      "source": [
        "countries = gdp.read_file(\"https://github.com/jorisvandenbossche/geopandas-tutorial/blob/main/data/ne_110m_admin_0_countries.zip?raw=true\")\n",
        "cities = gdp.read_file(\"https://github.com/jorisvandenbossche/geopandas-tutorial/blob/main/data/ne_110m_populated_places.zip?raw=true\")\n",
        "rivers = gdp.read_file(\"https://github.com/jorisvandenbossche/geopandas-tutorial/blob/main/data/ne_50m_rivers_lake_centerlines.zip?raw=true\")"
      ],
      "metadata": {
        "id": "gHGUAdi6MFbw"
      },
      "execution_count": null,
      "outputs": []
    },
    {
      "cell_type": "code",
      "source": [
        "belgium = countries.plot(figsize=(12,6))"
      ],
      "metadata": {
        "id": "agBGPpc4NnVn"
      },
      "execution_count": null,
      "outputs": []
    },
    {
      "cell_type": "code",
      "source": [
        "belgium = countries.loc[countries['name'] == 'Belgium', 'geometry'].item()\n",
        "belgium"
      ],
      "metadata": {
        "id": "ycEh380lOajv"
      },
      "execution_count": null,
      "outputs": []
    },
    {
      "cell_type": "code",
      "source": [
        "paris = cities.loc[cities['name'] == 'Paris', 'geometry'].item()\n",
        "brussels = cities.loc[cities['name'] == 'Brussels', 'geometry'].item()\n",
        "paris"
      ],
      "metadata": {
        "id": "fr7HTJBuWGSV"
      },
      "execution_count": null,
      "outputs": []
    },
    {
      "cell_type": "code",
      "source": [
        "from shapely.geometry import LineString\n",
        "line = LineString([paris, brussels])\n",
        "line"
      ],
      "metadata": {
        "id": "ul1yvsipWH6k"
      },
      "execution_count": null,
      "outputs": []
    },
    {
      "cell_type": "code",
      "source": [
        "gdp.GeoSeries([belgium, paris, brussels, line]).plot(cmap='tab10')"
      ],
      "metadata": {
        "id": "gvHhzB2rWkzr"
      },
      "execution_count": null,
      "outputs": []
    },
    {
      "cell_type": "code",
      "source": [
        "brussels.within(belgium)"
      ],
      "metadata": {
        "id": "W4GsRj86WrJ7"
      },
      "execution_count": null,
      "outputs": []
    },
    {
      "cell_type": "code",
      "source": [
        "belgium.contains(brussels)"
      ],
      "metadata": {
        "id": "E7G0X61NWttT"
      },
      "execution_count": null,
      "outputs": []
    },
    {
      "cell_type": "code",
      "source": [
        "countries[countries.contains(paris)]"
      ],
      "metadata": {
        "id": "6jfJDMrpYQFT"
      },
      "execution_count": null,
      "outputs": []
    },
    {
      "cell_type": "code",
      "source": [
        "Italy = countries.loc[countries['name'] == 'Italy', 'geometry'].item()\n",
        "Italy"
      ],
      "metadata": {
        "colab": {
          "base_uri": "https://localhost:8080/",
          "height": 121
        },
        "id": "sY335GKzZG2j",
        "outputId": "0061ace0-7835-4d0e-8231-4efaef9cbae4"
      },
      "execution_count": null,
      "outputs": [
        {
          "output_type": "execute_result",
          "data": {
            "text/plain": [
              "<MULTIPOLYGON (((10.443 46.894, 11.049 46.751, 11.165 46.942, 12.153 47.115,...>"
            ],
            "image/svg+xml": "<svg xmlns=\"http://www.w3.org/2000/svg\" xmlns:xlink=\"http://www.w3.org/1999/xlink\" width=\"100.0\" height=\"100.0\" viewBox=\"6.280743605177903 36.15077562107167 12.668715087941308 11.433829223678543\" preserveAspectRatio=\"xMinYMin meet\"><g transform=\"matrix(1,0,0,-1,0,83.73538046582189)\"><g><path fill-rule=\"evenodd\" fill=\"#66cc99\" stroke=\"#555555\" stroke-width=\"0.25337430175882614\" opacity=\"0.6\" d=\"M 10.44270145024663,46.89354625099743 L 11.048555942436536,46.75135854754634 L 11.16482791509327,46.94157949481273 L 12.153088006243024,47.115393174826465 L 12.376485223040788,46.76755910906982 L 13.806475457421527,46.509306138691215 L 13.698109978905478,46.01677806251735 L 13.937630242578308,45.59101593686469 L 13.141606479554326,45.736691799495446 L 12.32858117030625,45.38177806251488 L 12.383874952858548,44.88537425391911 L 12.261453484759102,44.60048208269404 L 12.589237094786512,44.091365871754476 L 13.526905958722551,43.587727362637935 L 14.029820997787056,42.76100779883251 L 15.142569614327925,41.95513967545685 L 15.926191033601924,41.961315009115765 L 16.169897088290384,41.74029490820337 L 15.889345737377823,41.54108226171823 L 16.785001661860605,41.179605617836614 L 17.519168735431236,40.877143459632265 L 18.37668745288252,40.35562490494266 L 18.48024702319546,40.168866278639854 L 18.29338504402807,39.81077444107328 L 17.738380161213342,40.27767100683033 L 16.869595981522366,40.442234605463796 L 16.44874311693738,39.795400702466424 L 17.17148969897147,39.42469981542067 L 17.05284061042937,38.902871202137334 L 16.635088331781787,38.84357249608243 L 16.100960727613028,37.98589874933421 L 15.68408694831453,37.90884918878706 L 15.687962680736376,38.21459280044189 L 15.891981235424737,38.750942491199254 L 16.109332309644344,38.96454702407772 L 15.718813510814613,39.54407237401497 L 15.41361250169885,40.0483568385352 L 14.99849572109818,40.17294871679084 L 14.703268263414714,40.60455027929265 L 14.060671827865292,40.786347968095384 L 13.627985060285425,41.18828725846157 L 12.888081902730391,41.253089504555646 L 12.106682570044967,41.704534817057436 L 11.191906365614244,42.355425319989706 L 10.51194786951774,42.93146251074725 L 10.200028924203991,43.92000682227456 L 9.70248823409787,44.03627879493135 L 8.8889461605269,44.36633616797957 L 8.428560825238606,44.231228135752445 L 7.850766635783174,43.76714793555527 L 7.435184767291901,43.69384491634921 L 7.549596388386135,44.127901109384766 L 7.007562290076606,44.25476675066142 L 6.749955275101655,45.028517971367535 L 7.096652459347865,45.3330988632959 L 6.802355177445605,45.70857982032871 L 6.843592970414505,45.99114655210061 L 7.2738509456766565,45.776947740250776 L 7.7559920589598335,45.82449005795931 L 8.31662967289438,46.16364248309086 L 8.489952426801324,46.005150865251686 L 8.966305779667778,46.03693187111119 L 9.182881707403055,46.44021474871698 L 9.922836541390382,46.31489940040919 L 10.363378126678612,46.48357127540986 L 10.44270145024663,46.89354625099743 z\" /><path fill-rule=\"evenodd\" fill=\"#66cc99\" stroke=\"#555555\" stroke-width=\"0.25337430175882614\" opacity=\"0.6\" d=\"M 15.520376010813806,38.2311550969915 L 15.160242954171764,37.44404551853776 L 15.309897902089062,37.13421946873183 L 15.099988234119479,36.619987290995425 L 14.33522871263196,36.996630967754754 L 13.826732618879987,37.10453135838014 L 12.431003859108756,37.612949937483734 L 12.570943637755192,38.12638113051963 L 13.741156447004641,38.034965521795385 L 14.761249220446217,38.14387360285045 L 15.520376010813806,38.2311550969915 z\" /><path fill-rule=\"evenodd\" fill=\"#66cc99\" stroke=\"#555555\" stroke-width=\"0.25337430175882614\" opacity=\"0.6\" d=\"M 9.210011834356322,41.20999136002425 L 9.809975213264948,40.50000885676613 L 9.669518670295616,39.17737641047182 L 9.214817742559461,39.24047333430016 L 8.806935662479674,38.906617743478506 L 8.428302443077172,39.17184703221656 L 8.388253208050884,40.378310858718805 L 8.159998406617717,40.95000722916373 L 8.709990675500165,40.89998444270526 L 9.210011834356322,41.20999136002425 z\" /></g></g></svg>"
          },
          "metadata": {},
          "execution_count": 39
        }
      ]
    },
    {
      "cell_type": "code",
      "source": [
        "cities[cities.within(Italy)]"
      ],
      "metadata": {
        "id": "ZqpN3FYZYmBD"
      },
      "execution_count": null,
      "outputs": []
    },
    {
      "cell_type": "code",
      "source": [
        "amazon = rivers[rivers['name'] == 'Amazonas'].geometry.item()\n",
        "amazon"
      ],
      "metadata": {
        "id": "5atyqLp9ZnP7"
      },
      "execution_count": null,
      "outputs": []
    },
    {
      "cell_type": "code",
      "source": [
        "countries[countries.crosses(amazon)].plot()"
      ],
      "metadata": {
        "id": "NnVxi5P_Zv88"
      },
      "execution_count": null,
      "outputs": []
    },
    {
      "cell_type": "code",
      "source": [
        "ax = countries[countries.crosses(amazon)].plot()\n",
        "amazon2 = rivers[rivers['name'] == 'Amazonas']\n",
        "amazon2.plot(ax=ax, color = \"white\" , linewidth = 4)"
      ],
      "metadata": {
        "id": "j09o_DJUaAJa"
      },
      "execution_count": null,
      "outputs": []
    }
  ]
}